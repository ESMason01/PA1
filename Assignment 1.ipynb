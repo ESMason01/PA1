{
 "cells": [
  {
   "cell_type": "markdown",
   "id": "33d4de3f",
   "metadata": {},
   "source": [
    "# Sawyer Mason, Assignment 1, Version 1, CS-150"
   ]
  },
  {
   "cell_type": "markdown",
   "id": "a9b05eff",
   "metadata": {},
   "source": [
    "# Computer Programming for the Liberal Arts "
   ]
  },
  {
   "cell_type": "markdown",
   "id": "82fe2bf7",
   "metadata": {},
   "source": [
    "## Getting started with markdown"
   ]
  },
  {
   "cell_type": "markdown",
   "id": "86c71801",
   "metadata": {},
   "source": [
    "> Good Morning"
   ]
  },
  {
   "cell_type": "markdown",
   "id": "247debdf",
   "metadata": {},
   "source": [
    "* Variables and Simple Data Types\n",
    "* Introducing Lists, Tuples\n",
    "* if Statements\n",
    "* While Loops\n",
    "* Functions\n",
    "* Classes\n",
    "* Numpy"
   ]
  },
  {
   "cell_type": "markdown",
   "id": "a9c332ab",
   "metadata": {},
   "source": [
    "1. Assignment 1\n",
    "2. Assignment 2\n",
    "3. Assignment 3\n",
    "4. Assignment 4\n",
    "5. Assignment 5\n",
    "6. Assignment 6\n",
    "7. Assignment 7"
   ]
  },
  {
   "cell_type": "markdown",
   "id": "1ebcc0b2",
   "metadata": {},
   "source": [
    "**This is a bold sentence**"
   ]
  },
  {
   "cell_type": "markdown",
   "id": "31d2c87d",
   "metadata": {},
   "source": [
    "*This is an italic sentence*"
   ]
  },
  {
   "cell_type": "markdown",
   "id": "bed222af",
   "metadata": {},
   "source": [
    "`This is a highlighted sentence`"
   ]
  },
  {
   "cell_type": "markdown",
   "id": "db053dd8",
   "metadata": {},
   "source": [
    "<a href=\"https://github.com/ESMason01\">this link</a>"
   ]
  },
  {
   "cell_type": "markdown",
   "id": "a128a371",
   "metadata": {},
   "source": [
    "![Python Logo](https://images.pexels.com/photos/45201/kitty-cat-kitten-pet-45201.jpeg?auto=compress&cs=tinysrgb&w=1260&h=750&dpr=2)"
   ]
  },
  {
   "cell_type": "code",
   "execution_count": null,
   "id": "ce29c50e",
   "metadata": {},
   "outputs": [],
   "source": []
  }
 ],
 "metadata": {
  "kernelspec": {
   "display_name": "Python 3 (ipykernel)",
   "language": "python",
   "name": "python3"
  },
  "language_info": {
   "codemirror_mode": {
    "name": "ipython",
    "version": 3
   },
   "file_extension": ".py",
   "mimetype": "text/x-python",
   "name": "python",
   "nbconvert_exporter": "python",
   "pygments_lexer": "ipython3",
   "version": "3.9.13"
  }
 },
 "nbformat": 4,
 "nbformat_minor": 5
}
