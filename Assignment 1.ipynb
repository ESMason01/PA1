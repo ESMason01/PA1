{
 "cells": [
  {
   "cell_type": "markdown",
   "id": "d9b92ba2",
   "metadata": {},
   "source": [
    "# Sawyer Mason, Assignment 1, Version 1, CS-150\n"
   ]
  },
  {
   "cell_type": "markdown",
   "id": "cf90a9c1",
   "metadata": {},
   "source": [
    "# Computer Programming for the Liberal Arts "
   ]
  },
  {
   "cell_type": "markdown",
   "id": "2809dcbe",
   "metadata": {},
   "source": [
    "## Getting started with markdown"
   ]
  },
  {
   "cell_type": "markdown",
   "id": "e9c0092c",
   "metadata": {},
   "source": [
    "> Good Morning"
   ]
  },
  {
   "cell_type": "markdown",
   "id": "31cdc255",
   "metadata": {},
   "source": [
    "* Variables and Simple Data Types\n",
    "* Introducing Lists, Tuples\n",
    "* if Statements\n",
    "* While Loops\n",
    "* Functions\n",
    "* Classes\n",
    "* Numpy"
   ]
  },
  {
   "cell_type": "markdown",
   "id": "876045f6",
   "metadata": {},
   "source": [
    "1. Assignment 1\n",
    "2. Assignment 2\n",
    "3. Assignement 3\n",
    "4. Assignment 4\n",
    "5. Assignment 5\n",
    "6. Assignment 6\n",
    "7. Assignment 7"
   ]
  },
  {
   "cell_type": "markdown",
   "id": "d33c63da",
   "metadata": {},
   "source": [
    "**This is a bold sentence**"
   ]
  },
  {
   "cell_type": "markdown",
   "id": "249b8f0a",
   "metadata": {},
   "source": [
    "*This is an itlaic sentence*"
   ]
  },
  {
   "cell_type": "markdown",
   "id": "693ba1f1",
   "metadata": {},
   "source": [
    "`This is a highlighted sentence`"
   ]
  },
  {
   "cell_type": "markdown",
   "id": "2f1dc7ed",
   "metadata": {},
   "source": [
    "<a href=\"https://github.com/ESMason01/PA1\">https://github.com/ESMason01/PA1</a>"
   ]
  },
  {
   "cell_type": "markdown",
   "id": "c0932d06",
   "metadata": {},
   "source": [
    "![Python Logo](https://www.google.com/imgres?imgurl=https%3A%2F%2Fimages.pexels.com%2Fphotos%2F104827%2Fcat-pet-animal-domestic-104827.jpeg%3Fcs%3Dsrgb%26dl%3Dpexels-pixabay-104827.jpg%26fm%3Djpg&imgrefurl=https%3A%2F%2Fwww.pexels.com%2Fsearch%2Fcat%2F&tbnid=fAdV6Khf7ZdtJM&vet=12ahUKEwi1o8O12rr8AhUW8MkDHdlfBEcQMygAegUIARC5AQ..i&docid=hVpvvL-HxQGRYM&w=5360&h=3560&q=open%20source%20cat%20image&client=safari&ved=2ahUKEwi1o8O12rr8AhUW8MkDHdlfBEcQMygAegUIARC5AQ)"
   ]
  },
  {
   "cell_type": "markdown",
   "id": "c4e79e55",
   "metadata": {},
   "source": [
    "![Python logo] (https://www.google.com/imgres?imgurl=https%3A%2F%2Fwww.clipartmax.com%2Fpng%2Fmiddle%2F257-2572094_the-cat-goes-open-source-petting-chart-for-cats.png&imgrefurl=https%3A%2F%2Fwww.clipartmax.com%2Fmiddle%2Fm2H7K9A0Z5N4G6d3_the-cat-goes-open-source-petting-chart-for-cats%2F&tbnid=hfihoKl2ZAnoJM&vet=12ahUKEwi1o8O12rr8AhUW8MkDHdlfBEcQMygGegUIARDFAQ..i&docid=d56Iku-FV8hGQM&w=840&h=566&q=open%20source%20cat%20image&client=safari&ved=2ahUKEwi1o8O12rr8AhUW8MkDHdlfBEcQMygGegUIARDFAQ)"
   ]
  },
  {
   "cell_type": "markdown",
   "id": "640eed62",
   "metadata": {},
   "source": [
    "![Python Logo](https://images.pexels.com/photos/45201/kitty-cat-kitten-pet-45201.jpeg?auto=compress&cs=tinysrgb&w=1260&h=750&dpr=2)"
   ]
  },
  {
   "cell_type": "code",
   "execution_count": null,
   "id": "7e49f44a",
   "metadata": {},
   "outputs": [],
   "source": []
  }
 ],
 "metadata": {
  "kernelspec": {
   "display_name": "Python 3 (ipykernel)",
   "language": "python",
   "name": "python3"
  },
  "language_info": {
   "codemirror_mode": {
    "name": "ipython",
    "version": 3
   },
   "file_extension": ".py",
   "mimetype": "text/x-python",
   "name": "python",
   "nbconvert_exporter": "python",
   "pygments_lexer": "ipython3",
   "version": "3.9.13"
  }
 },
 "nbformat": 4,
 "nbformat_minor": 5
}
